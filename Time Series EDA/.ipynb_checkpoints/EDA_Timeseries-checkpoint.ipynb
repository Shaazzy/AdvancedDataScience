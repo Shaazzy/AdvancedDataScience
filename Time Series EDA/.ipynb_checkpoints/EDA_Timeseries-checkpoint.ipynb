{
 "cells": [
  {
   "cell_type": "code",
   "execution_count": 3,
   "id": "53e17c19",
   "metadata": {},
   "outputs": [],
   "source": [
    "import pandas as pd\n",
    "import numpy as np\n",
    "import matplotlib as plt\n",
    "import seaborn as sn"
   ]
  },
  {
   "cell_type": "code",
   "execution_count": 2,
   "id": "a89290b9",
   "metadata": {},
   "outputs": [
    {
     "name": "stdout",
     "output_type": "stream",
     "text": [
      "Requirement already satisfied: statsmodels in /Users/sharonokech/anaconda3/lib/python3.10/site-packages (0.13.5)\r\n",
      "Requirement already satisfied: packaging>=21.3 in /Users/sharonokech/anaconda3/lib/python3.10/site-packages (from statsmodels) (22.0)\r\n",
      "Requirement already satisfied: pandas>=0.25 in /Users/sharonokech/anaconda3/lib/python3.10/site-packages (from statsmodels) (1.5.3)\r\n",
      "Requirement already satisfied: patsy>=0.5.2 in /Users/sharonokech/anaconda3/lib/python3.10/site-packages (from statsmodels) (0.5.3)\r\n",
      "Requirement already satisfied: scipy>=1.3 in /Users/sharonokech/anaconda3/lib/python3.10/site-packages (from statsmodels) (1.10.0)\r\n",
      "Requirement already satisfied: numpy>=1.17 in /Users/sharonokech/anaconda3/lib/python3.10/site-packages (from statsmodels) (1.23.5)\r\n",
      "Requirement already satisfied: python-dateutil>=2.8.1 in /Users/sharonokech/anaconda3/lib/python3.10/site-packages (from pandas>=0.25->statsmodels) (2.8.2)\r\n",
      "Requirement already satisfied: pytz>=2020.1 in /Users/sharonokech/anaconda3/lib/python3.10/site-packages (from pandas>=0.25->statsmodels) (2022.7)\r\n",
      "Requirement already satisfied: six in /Users/sharonokech/anaconda3/lib/python3.10/site-packages (from patsy>=0.5.2->statsmodels) (1.16.0)\r\n"
     ]
    }
   ],
   "source": [
    "!pip install statsmodels"
   ]
  },
  {
   "cell_type": "code",
   "execution_count": 13,
   "id": "a9ebc4fc",
   "metadata": {},
   "outputs": [
    {
     "ename": "NameError",
     "evalue": "name 'r_getdata' is not defined",
     "output_type": "error",
     "traceback": [
      "\u001b[0;31m---------------------------------------------------------------------------\u001b[0m",
      "\u001b[0;31mNameError\u001b[0m                                 Traceback (most recent call last)",
      "Cell \u001b[0;32mIn[13], line 1\u001b[0m\n\u001b[0;32m----> 1\u001b[0m data\u001b[38;5;241m=\u001b[39m\u001b[43mr_getdata\u001b[49m\n",
      "\u001b[0;31mNameError\u001b[0m: name 'r_getdata' is not defined"
     ]
    }
   ],
   "source": [
    "data=r_getdata"
   ]
  },
  {
   "cell_type": "code",
   "execution_count": 14,
   "id": "3d892c2d",
   "metadata": {},
   "outputs": [
    {
     "ename": "NameError",
     "evalue": "name 'data' is not defined",
     "output_type": "error",
     "traceback": [
      "\u001b[0;31m---------------------------------------------------------------------------\u001b[0m",
      "\u001b[0;31mNameError\u001b[0m                                 Traceback (most recent call last)",
      "Cell \u001b[0;32mIn[14], line 1\u001b[0m\n\u001b[0;32m----> 1\u001b[0m \u001b[43mdata\u001b[49m\u001b[38;5;241m.\u001b[39mhead()\n",
      "\u001b[0;31mNameError\u001b[0m: name 'data' is not defined"
     ]
    }
   ],
   "source": [
    "data.head()"
   ]
  },
  {
   "cell_type": "code",
   "execution_count": 15,
   "id": "d92ad6c1",
   "metadata": {},
   "outputs": [
    {
     "ename": "NameError",
     "evalue": "name 'data' is not defined",
     "output_type": "error",
     "traceback": [
      "\u001b[0;31m---------------------------------------------------------------------------\u001b[0m",
      "\u001b[0;31mNameError\u001b[0m                                 Traceback (most recent call last)",
      "Cell \u001b[0;32mIn[15], line 1\u001b[0m\n\u001b[0;32m----> 1\u001b[0m \u001b[43mdata\u001b[49m\u001b[38;5;241m.\u001b[39mset_index(\u001b[38;5;124m'\u001b[39m\u001b[38;5;124mtime\u001b[39m\u001b[38;5;124m'\u001b[39m, inplace\u001b[38;5;241m=\u001b[39m\u001b[38;5;28;01mTrue\u001b[39;00m)\n",
      "\u001b[0;31mNameError\u001b[0m: name 'data' is not defined"
     ]
    }
   ],
   "source": [
    "data.set_index('time', inplace=True)"
   ]
  },
  {
   "cell_type": "markdown",
   "id": "5a4d6bb3",
   "metadata": {},
   "source": [
    "### Visualization"
   ]
  },
  {
   "cell_type": "code",
   "execution_count": 16,
   "id": "2858bf77",
   "metadata": {},
   "outputs": [
    {
     "ename": "SyntaxError",
     "evalue": "invalid syntax. Maybe you meant '==' or ':=' instead of '='? (620402449.py, line 3)",
     "output_type": "error",
     "traceback": [
      "\u001b[0;36m  Cell \u001b[0;32mIn[16], line 3\u001b[0;36m\u001b[0m\n\u001b[0;31m    plt.plot(data.index, data['value']), label='Passengers'\u001b[0m\n\u001b[0m                                         ^\u001b[0m\n\u001b[0;31mSyntaxError\u001b[0m\u001b[0;31m:\u001b[0m invalid syntax. Maybe you meant '==' or ':=' instead of '='?\n"
     ]
    }
   ],
   "source": [
    "#lineplot\n",
    "plt.figure(figsize=(10,6))\n",
    "plt.plot(data.index, data['value']), label='Passengers'\n",
    "plt.xlabel(\"Date\")\n",
    "plt.ylabel(\"Passengers\")\n",
    "plt.title(\"Air Passengers Time Series\")\n",
    "plt.legend()\n",
    "plt.show()"
   ]
  },
  {
   "cell_type": "markdown",
   "id": "06857c7a",
   "metadata": {},
   "source": [
    "#### Information and description of the data"
   ]
  },
  {
   "cell_type": "code",
   "execution_count": null,
   "id": "572c883f",
   "metadata": {},
   "outputs": [],
   "source": []
  },
  {
   "cell_type": "code",
   "execution_count": null,
   "id": "196a9bc1",
   "metadata": {},
   "outputs": [],
   "source": [
    "\n"
   ]
  },
  {
   "cell_type": "code",
   "execution_count": null,
   "id": "28ce777d",
   "metadata": {},
   "outputs": [],
   "source": []
  },
  {
   "cell_type": "code",
   "execution_count": null,
   "id": "46ae61c9",
   "metadata": {},
   "outputs": [],
   "source": []
  },
  {
   "cell_type": "code",
   "execution_count": null,
   "id": "b1aa2500",
   "metadata": {},
   "outputs": [],
   "source": []
  }
 ],
 "metadata": {
  "kernelspec": {
   "display_name": "Python 3 (ipykernel)",
   "language": "python",
   "name": "python3"
  },
  "language_info": {
   "codemirror_mode": {
    "name": "ipython",
    "version": 3
   },
   "file_extension": ".py",
   "mimetype": "text/x-python",
   "name": "python",
   "nbconvert_exporter": "python",
   "pygments_lexer": "ipython3",
   "version": "3.10.9"
  }
 },
 "nbformat": 4,
 "nbformat_minor": 5
}
